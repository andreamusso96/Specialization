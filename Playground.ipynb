{
 "cells": [
  {
   "cell_type": "markdown",
   "source": [
    "# IMPORTS"
   ],
   "metadata": {
    "collapsed": false
   }
  },
  {
   "cell_type": "code",
   "execution_count": 27,
   "outputs": [],
   "source": [
    "from DataPreprocessing.ONETData.Network import OccupationNetwork"
   ],
   "metadata": {
    "collapsed": false,
    "ExecuteTime": {
     "start_time": "2023-05-09T15:30:40.115831Z",
     "end_time": "2023-05-09T15:30:40.165114Z"
    }
   }
  },
  {
   "cell_type": "code",
   "execution_count": 28,
   "outputs": [],
   "source": [
    "import pandas as pd\n",
    "import numpy as np\n",
    "from sklearn.linear_model import LinearRegression\n",
    "from sklearn.preprocessing import StandardScaler\n",
    "import plotly.graph_objects as go"
   ],
   "metadata": {
    "collapsed": false,
    "ExecuteTime": {
     "start_time": "2023-05-09T15:30:40.808934Z",
     "end_time": "2023-05-09T15:30:40.862079Z"
    }
   }
  },
  {
   "cell_type": "code",
   "execution_count": 29,
   "outputs": [
    {
     "name": "stdout",
     "output_type": "stream",
     "text": [
      "The autoreload extension is already loaded. To reload it, use:\n",
      "  %reload_ext autoreload\n"
     ]
    }
   ],
   "source": [
    "%load_ext autoreload\n",
    "%autoreload 2"
   ],
   "metadata": {
    "collapsed": false,
    "ExecuteTime": {
     "start_time": "2023-05-09T15:30:41.006824Z",
     "end_time": "2023-05-09T15:30:41.051326Z"
    }
   }
  },
  {
   "cell_type": "code",
   "execution_count": 30,
   "outputs": [],
   "source": [
    "# %reload_ext autoreload"
   ],
   "metadata": {
    "collapsed": false,
    "ExecuteTime": {
     "start_time": "2023-05-09T15:30:41.642765Z",
     "end_time": "2023-05-09T15:30:41.689083Z"
    }
   }
  },
  {
   "cell_type": "markdown",
   "source": [
    "# DATA"
   ],
   "metadata": {
    "collapsed": false
   }
  },
  {
   "cell_type": "code",
   "execution_count": 31,
   "outputs": [],
   "source": [
    "network = OccupationNetwork()"
   ],
   "metadata": {
    "collapsed": false,
    "ExecuteTime": {
     "start_time": "2023-05-09T15:30:43.073156Z",
     "end_time": "2023-05-09T15:30:43.115885Z"
    }
   }
  },
  {
   "cell_type": "code",
   "execution_count": 32,
   "outputs": [
    {
     "data": {
      "text/plain": "O*NET-SOC Code   11-1011   11-1021   11-2011   11-2021   11-2022   11-3011   \nO*NET-SOC Code                                                               \n11-1011         0.000000  0.351137  0.396005  0.301246  0.271299  0.436636  \\\n11-1021         0.320006  0.000000  0.436210  0.387774  0.325575  0.246489   \n11-2011         0.352188  0.425685  0.000000  0.218239  0.306338  0.439341   \n11-2021         0.285123  0.402725  0.232258  0.000000  0.241052  0.459552   \n11-2022         0.260550  0.343094  0.330804  0.244592  0.000000  0.419945   \n...                  ...       ...       ...       ...       ...       ...   \n53-7071         0.788145  0.649908  0.852526  0.839805  0.803181  0.646966   \n53-7072         0.748862  0.602729  0.806050  0.782942  0.755718  0.606774   \n53-7073         0.781619  0.643827  0.830433  0.814899  0.781386  0.639303   \n53-7081         0.855551  0.733122  0.856107  0.862666  0.836090  0.727522   \n53-7121         0.813823  0.680919  0.873764  0.857841  0.818360  0.675656   \n\nO*NET-SOC Code   11-3021   11-3031   11-3051   11-3061  ...   53-7061   \nO*NET-SOC Code                                          ...             \n11-1011         0.399822  0.336467  0.470919  0.249006  ...  0.963967  \\\n11-1021         0.383235  0.431520  0.315785  0.297392  ...  0.801502   \n11-2011         0.437912  0.342844  0.544907  0.344318  ...  0.813635   \n11-2021         0.387187  0.313268  0.538786  0.282646  ...  0.886318   \n11-2022         0.390075  0.334558  0.505097  0.245755  ...  0.892115   \n...                  ...       ...       ...       ...  ...       ...   \n53-7071         0.745533  0.851704  0.469084  0.790204  ...  0.638655   \n53-7072         0.684570  0.785471  0.463570  0.739861  ...  0.602189   \n53-7073         0.729402  0.803489  0.528534  0.767524  ...  0.511897   \n53-7081         0.855411  0.888762  0.669141  0.847857  ...  0.412182   \n53-7121         0.777831  0.848265  0.563521  0.813977  ...  0.592663   \n\nO*NET-SOC Code   53-7062   53-7063   53-7064   53-7065   53-7071   53-7072   \nO*NET-SOC Code                                                               \n11-1011         0.959541  0.976535  0.879077  0.921255  0.794730  0.777620  \\\n11-1021         0.738847  0.774783  0.673059  0.739313  0.597237  0.570386   \n11-2011         0.831510  0.827663  0.780230  0.732166  0.764532  0.744392   \n11-2021         0.899449  0.903655  0.827398  0.811978  0.801501  0.769497   \n11-2022         0.891392  0.918359  0.822330  0.816466  0.777805  0.753649   \n...                  ...       ...       ...       ...       ...       ...   \n53-7071         0.481895  0.537988  0.527146  0.727564  0.000000  0.285649   \n53-7072         0.423987  0.495395  0.464155  0.649663  0.277384  0.000000   \n53-7073         0.366690  0.442034  0.406870  0.573801  0.299613  0.266785   \n53-7081         0.292581  0.421678  0.447167  0.554854  0.428126  0.397275   \n53-7121         0.392615  0.488244  0.480995  0.646866  0.327928  0.236137   \n\nO*NET-SOC Code   53-7073   53-7081   53-7121  \nO*NET-SOC Code                                \n11-1011         0.822106  0.939799  0.807921  \n11-1021         0.617140  0.733917  0.616050  \n11-2011         0.776804  0.836357  0.771450  \n11-2021         0.811238  0.896899  0.806042  \n11-2022         0.789300  0.882035  0.780237  \n...                  ...       ...       ...  \n53-7071         0.312521  0.466387  0.322853  \n53-7072         0.270227  0.420257  0.225755  \n53-7073         0.000000  0.398727  0.282850  \n53-7081         0.381785  0.000000  0.362161  \n53-7121         0.299675  0.400730  0.000000  \n\n[745 rows x 745 columns]",
      "text/html": "<div>\n<style scoped>\n    .dataframe tbody tr th:only-of-type {\n        vertical-align: middle;\n    }\n\n    .dataframe tbody tr th {\n        vertical-align: top;\n    }\n\n    .dataframe thead th {\n        text-align: right;\n    }\n</style>\n<table border=\"1\" class=\"dataframe\">\n  <thead>\n    <tr style=\"text-align: right;\">\n      <th>O*NET-SOC Code</th>\n      <th>11-1011</th>\n      <th>11-1021</th>\n      <th>11-2011</th>\n      <th>11-2021</th>\n      <th>11-2022</th>\n      <th>11-3011</th>\n      <th>11-3021</th>\n      <th>11-3031</th>\n      <th>11-3051</th>\n      <th>11-3061</th>\n      <th>...</th>\n      <th>53-7061</th>\n      <th>53-7062</th>\n      <th>53-7063</th>\n      <th>53-7064</th>\n      <th>53-7065</th>\n      <th>53-7071</th>\n      <th>53-7072</th>\n      <th>53-7073</th>\n      <th>53-7081</th>\n      <th>53-7121</th>\n    </tr>\n    <tr>\n      <th>O*NET-SOC Code</th>\n      <th></th>\n      <th></th>\n      <th></th>\n      <th></th>\n      <th></th>\n      <th></th>\n      <th></th>\n      <th></th>\n      <th></th>\n      <th></th>\n      <th></th>\n      <th></th>\n      <th></th>\n      <th></th>\n      <th></th>\n      <th></th>\n      <th></th>\n      <th></th>\n      <th></th>\n      <th></th>\n      <th></th>\n    </tr>\n  </thead>\n  <tbody>\n    <tr>\n      <th>11-1011</th>\n      <td>0.000000</td>\n      <td>0.351137</td>\n      <td>0.396005</td>\n      <td>0.301246</td>\n      <td>0.271299</td>\n      <td>0.436636</td>\n      <td>0.399822</td>\n      <td>0.336467</td>\n      <td>0.470919</td>\n      <td>0.249006</td>\n      <td>...</td>\n      <td>0.963967</td>\n      <td>0.959541</td>\n      <td>0.976535</td>\n      <td>0.879077</td>\n      <td>0.921255</td>\n      <td>0.794730</td>\n      <td>0.777620</td>\n      <td>0.822106</td>\n      <td>0.939799</td>\n      <td>0.807921</td>\n    </tr>\n    <tr>\n      <th>11-1021</th>\n      <td>0.320006</td>\n      <td>0.000000</td>\n      <td>0.436210</td>\n      <td>0.387774</td>\n      <td>0.325575</td>\n      <td>0.246489</td>\n      <td>0.383235</td>\n      <td>0.431520</td>\n      <td>0.315785</td>\n      <td>0.297392</td>\n      <td>...</td>\n      <td>0.801502</td>\n      <td>0.738847</td>\n      <td>0.774783</td>\n      <td>0.673059</td>\n      <td>0.739313</td>\n      <td>0.597237</td>\n      <td>0.570386</td>\n      <td>0.617140</td>\n      <td>0.733917</td>\n      <td>0.616050</td>\n    </tr>\n    <tr>\n      <th>11-2011</th>\n      <td>0.352188</td>\n      <td>0.425685</td>\n      <td>0.000000</td>\n      <td>0.218239</td>\n      <td>0.306338</td>\n      <td>0.439341</td>\n      <td>0.437912</td>\n      <td>0.342844</td>\n      <td>0.544907</td>\n      <td>0.344318</td>\n      <td>...</td>\n      <td>0.813635</td>\n      <td>0.831510</td>\n      <td>0.827663</td>\n      <td>0.780230</td>\n      <td>0.732166</td>\n      <td>0.764532</td>\n      <td>0.744392</td>\n      <td>0.776804</td>\n      <td>0.836357</td>\n      <td>0.771450</td>\n    </tr>\n    <tr>\n      <th>11-2021</th>\n      <td>0.285123</td>\n      <td>0.402725</td>\n      <td>0.232258</td>\n      <td>0.000000</td>\n      <td>0.241052</td>\n      <td>0.459552</td>\n      <td>0.387187</td>\n      <td>0.313268</td>\n      <td>0.538786</td>\n      <td>0.282646</td>\n      <td>...</td>\n      <td>0.886318</td>\n      <td>0.899449</td>\n      <td>0.903655</td>\n      <td>0.827398</td>\n      <td>0.811978</td>\n      <td>0.801501</td>\n      <td>0.769497</td>\n      <td>0.811238</td>\n      <td>0.896899</td>\n      <td>0.806042</td>\n    </tr>\n    <tr>\n      <th>11-2022</th>\n      <td>0.260550</td>\n      <td>0.343094</td>\n      <td>0.330804</td>\n      <td>0.244592</td>\n      <td>0.000000</td>\n      <td>0.419945</td>\n      <td>0.390075</td>\n      <td>0.334558</td>\n      <td>0.505097</td>\n      <td>0.245755</td>\n      <td>...</td>\n      <td>0.892115</td>\n      <td>0.891392</td>\n      <td>0.918359</td>\n      <td>0.822330</td>\n      <td>0.816466</td>\n      <td>0.777805</td>\n      <td>0.753649</td>\n      <td>0.789300</td>\n      <td>0.882035</td>\n      <td>0.780237</td>\n    </tr>\n    <tr>\n      <th>...</th>\n      <td>...</td>\n      <td>...</td>\n      <td>...</td>\n      <td>...</td>\n      <td>...</td>\n      <td>...</td>\n      <td>...</td>\n      <td>...</td>\n      <td>...</td>\n      <td>...</td>\n      <td>...</td>\n      <td>...</td>\n      <td>...</td>\n      <td>...</td>\n      <td>...</td>\n      <td>...</td>\n      <td>...</td>\n      <td>...</td>\n      <td>...</td>\n      <td>...</td>\n      <td>...</td>\n    </tr>\n    <tr>\n      <th>53-7071</th>\n      <td>0.788145</td>\n      <td>0.649908</td>\n      <td>0.852526</td>\n      <td>0.839805</td>\n      <td>0.803181</td>\n      <td>0.646966</td>\n      <td>0.745533</td>\n      <td>0.851704</td>\n      <td>0.469084</td>\n      <td>0.790204</td>\n      <td>...</td>\n      <td>0.638655</td>\n      <td>0.481895</td>\n      <td>0.537988</td>\n      <td>0.527146</td>\n      <td>0.727564</td>\n      <td>0.000000</td>\n      <td>0.285649</td>\n      <td>0.312521</td>\n      <td>0.466387</td>\n      <td>0.322853</td>\n    </tr>\n    <tr>\n      <th>53-7072</th>\n      <td>0.748862</td>\n      <td>0.602729</td>\n      <td>0.806050</td>\n      <td>0.782942</td>\n      <td>0.755718</td>\n      <td>0.606774</td>\n      <td>0.684570</td>\n      <td>0.785471</td>\n      <td>0.463570</td>\n      <td>0.739861</td>\n      <td>...</td>\n      <td>0.602189</td>\n      <td>0.423987</td>\n      <td>0.495395</td>\n      <td>0.464155</td>\n      <td>0.649663</td>\n      <td>0.277384</td>\n      <td>0.000000</td>\n      <td>0.270227</td>\n      <td>0.420257</td>\n      <td>0.225755</td>\n    </tr>\n    <tr>\n      <th>53-7073</th>\n      <td>0.781619</td>\n      <td>0.643827</td>\n      <td>0.830433</td>\n      <td>0.814899</td>\n      <td>0.781386</td>\n      <td>0.639303</td>\n      <td>0.729402</td>\n      <td>0.803489</td>\n      <td>0.528534</td>\n      <td>0.767524</td>\n      <td>...</td>\n      <td>0.511897</td>\n      <td>0.366690</td>\n      <td>0.442034</td>\n      <td>0.406870</td>\n      <td>0.573801</td>\n      <td>0.299613</td>\n      <td>0.266785</td>\n      <td>0.000000</td>\n      <td>0.398727</td>\n      <td>0.282850</td>\n    </tr>\n    <tr>\n      <th>53-7081</th>\n      <td>0.855551</td>\n      <td>0.733122</td>\n      <td>0.856107</td>\n      <td>0.862666</td>\n      <td>0.836090</td>\n      <td>0.727522</td>\n      <td>0.855411</td>\n      <td>0.888762</td>\n      <td>0.669141</td>\n      <td>0.847857</td>\n      <td>...</td>\n      <td>0.412182</td>\n      <td>0.292581</td>\n      <td>0.421678</td>\n      <td>0.447167</td>\n      <td>0.554854</td>\n      <td>0.428126</td>\n      <td>0.397275</td>\n      <td>0.381785</td>\n      <td>0.000000</td>\n      <td>0.362161</td>\n    </tr>\n    <tr>\n      <th>53-7121</th>\n      <td>0.813823</td>\n      <td>0.680919</td>\n      <td>0.873764</td>\n      <td>0.857841</td>\n      <td>0.818360</td>\n      <td>0.675656</td>\n      <td>0.777831</td>\n      <td>0.848265</td>\n      <td>0.563521</td>\n      <td>0.813977</td>\n      <td>...</td>\n      <td>0.592663</td>\n      <td>0.392615</td>\n      <td>0.488244</td>\n      <td>0.480995</td>\n      <td>0.646866</td>\n      <td>0.327928</td>\n      <td>0.236137</td>\n      <td>0.299675</td>\n      <td>0.400730</td>\n      <td>0.000000</td>\n    </tr>\n  </tbody>\n</table>\n<p>745 rows × 745 columns</p>\n</div>"
     },
     "execution_count": 32,
     "metadata": {},
     "output_type": "execute_result"
    }
   ],
   "source": [
    "network.load()"
   ],
   "metadata": {
    "collapsed": false,
    "ExecuteTime": {
     "start_time": "2023-05-09T15:30:44.683603Z",
     "end_time": "2023-05-09T15:31:00.869492Z"
    }
   }
  },
  {
   "cell_type": "markdown",
   "source": [],
   "metadata": {
    "collapsed": false
   }
  },
  {
   "cell_type": "code",
   "execution_count": 40,
   "outputs": [],
   "source": [
    "dist_samples = network.get_distance_distribution_samples()"
   ],
   "metadata": {
    "collapsed": false,
    "ExecuteTime": {
     "start_time": "2023-05-09T15:37:18.843600Z",
     "end_time": "2023-05-09T15:37:18.889895Z"
    }
   }
  },
  {
   "cell_type": "code",
   "execution_count": 66,
   "outputs": [],
   "source": [
    "q = [0, 0.25, 0.5, 0.75, 1]\n",
    "quantiles = np.quantile(dist_samples, q=q)"
   ],
   "metadata": {
    "collapsed": false,
    "ExecuteTime": {
     "start_time": "2023-05-09T15:47:37.011795Z",
     "end_time": "2023-05-09T15:47:37.069948Z"
    }
   }
  },
  {
   "cell_type": "code",
   "execution_count": 67,
   "outputs": [],
   "source": [
    "fig = go.Figure()\n",
    "fig.add_trace(go.Histogram(x=dist_samples))\n",
    "fig.add_trace(go.Scatter(x=quantiles, y=500*np.ones(len(q))))\n",
    "fig.show(renderer='browser')"
   ],
   "metadata": {
    "collapsed": false,
    "ExecuteTime": {
     "start_time": "2023-05-09T15:47:37.278659Z",
     "end_time": "2023-05-09T15:47:37.923642Z"
    }
   }
  },
  {
   "cell_type": "code",
   "execution_count": 68,
   "outputs": [
    {
     "data": {
      "text/plain": "array([0.50849076, 0.61252221, 0.72557211])"
     },
     "execution_count": 68,
     "metadata": {},
     "output_type": "execute_result"
    }
   ],
   "source": [
    "np.quantile(dist_samples, q=[0.25, 0.5, 0.75])"
   ],
   "metadata": {
    "collapsed": false,
    "ExecuteTime": {
     "start_time": "2023-05-09T15:47:37.931771Z",
     "end_time": "2023-05-09T15:47:38.029003Z"
    }
   }
  },
  {
   "cell_type": "code",
   "execution_count": 70,
   "outputs": [],
   "source": [
    "fig = go.Figure()\n",
    "for i in range(1, 700, 60):\n",
    "    fig.add_trace(go.Histogram(x=network.network.values[i]))\n",
    "\n",
    "fig.add_trace(go.Scatter(x=quantiles, y=50*np.ones(len(q))))\n",
    "fig.show(renderer='browser')"
   ],
   "metadata": {
    "collapsed": false,
    "ExecuteTime": {
     "start_time": "2023-05-09T15:48:39.197225Z",
     "end_time": "2023-05-09T15:48:39.537587Z"
    }
   }
  },
  {
   "cell_type": "code",
   "execution_count": 2,
   "outputs": [],
   "source": [
    "import pandas as pd"
   ],
   "metadata": {
    "collapsed": false,
    "ExecuteTime": {
     "start_time": "2023-05-10T15:10:17.744232Z",
     "end_time": "2023-05-10T15:10:17.749402Z"
    }
   }
  },
  {
   "cell_type": "code",
   "execution_count": 3,
   "outputs": [],
   "source": [
    "df = pd.DataFrame(columns=['2015', '2016', '2017'], data=[[1, 2, 3], [4, 5, 6]])"
   ],
   "metadata": {
    "collapsed": false,
    "ExecuteTime": {
     "start_time": "2023-05-10T15:10:19.396482Z",
     "end_time": "2023-05-10T15:10:19.406753Z"
    }
   }
  },
  {
   "cell_type": "code",
   "execution_count": 4,
   "outputs": [
    {
     "data": {
      "text/plain": "   2015  2016  2017\n0   NaN  1.00   0.5\n1   NaN  0.25   0.2",
      "text/html": "<div>\n<style scoped>\n    .dataframe tbody tr th:only-of-type {\n        vertical-align: middle;\n    }\n\n    .dataframe tbody tr th {\n        vertical-align: top;\n    }\n\n    .dataframe thead th {\n        text-align: right;\n    }\n</style>\n<table border=\"1\" class=\"dataframe\">\n  <thead>\n    <tr style=\"text-align: right;\">\n      <th></th>\n      <th>2015</th>\n      <th>2016</th>\n      <th>2017</th>\n    </tr>\n  </thead>\n  <tbody>\n    <tr>\n      <th>0</th>\n      <td>NaN</td>\n      <td>1.00</td>\n      <td>0.5</td>\n    </tr>\n    <tr>\n      <th>1</th>\n      <td>NaN</td>\n      <td>0.25</td>\n      <td>0.2</td>\n    </tr>\n  </tbody>\n</table>\n</div>"
     },
     "execution_count": 4,
     "metadata": {},
     "output_type": "execute_result"
    }
   ],
   "source": [
    "df.pct_change(axis=1)"
   ],
   "metadata": {
    "collapsed": false,
    "ExecuteTime": {
     "start_time": "2023-05-10T15:10:43.804687Z",
     "end_time": "2023-05-10T15:10:43.825259Z"
    }
   }
  },
  {
   "cell_type": "code",
   "execution_count": 6,
   "outputs": [],
   "source": [
    "import numpy as np"
   ],
   "metadata": {
    "collapsed": false,
    "ExecuteTime": {
     "start_time": "2023-05-11T16:00:11.418845Z",
     "end_time": "2023-05-11T16:00:11.425273Z"
    }
   }
  },
  {
   "cell_type": "code",
   "execution_count": 8,
   "outputs": [
    {
     "data": {
      "text/plain": "array([0.  , 0.25, 0.5 , 0.75, 1.  ])"
     },
     "execution_count": 8,
     "metadata": {},
     "output_type": "execute_result"
    }
   ],
   "source": [
    "np.linspace(0,1,5)"
   ],
   "metadata": {
    "collapsed": false,
    "ExecuteTime": {
     "start_time": "2023-05-11T16:00:24.741466Z",
     "end_time": "2023-05-11T16:00:24.747308Z"
    }
   }
  },
  {
   "cell_type": "code",
   "execution_count": null,
   "outputs": [],
   "source": [],
   "metadata": {
    "collapsed": false
   }
  }
 ],
 "metadata": {
  "kernelspec": {
   "display_name": "Python 3",
   "language": "python",
   "name": "python3"
  },
  "language_info": {
   "codemirror_mode": {
    "name": "ipython",
    "version": 2
   },
   "file_extension": ".py",
   "mimetype": "text/x-python",
   "name": "python",
   "nbconvert_exporter": "python",
   "pygments_lexer": "ipython2",
   "version": "2.7.6"
  }
 },
 "nbformat": 4,
 "nbformat_minor": 0
}

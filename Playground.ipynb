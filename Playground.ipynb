{
 "cells": [
  {
   "cell_type": "markdown",
   "source": [
    "# IMPORTS"
   ],
   "metadata": {
    "collapsed": false
   }
  },
  {
   "cell_type": "code",
   "execution_count": 1,
   "outputs": [],
   "source": [
    "from DataPreprocessing.DataIO import ProcessedDataIO, OriginalDataIO\n",
    "from EmploymentRegression.Regression import Regression\n",
    "from OccupationClassification.OccupationClassifier import OccupationClassifier\n",
    "from Plotting.PlotRegressionResults import *\n",
    "from Utils import Data"
   ],
   "metadata": {
    "collapsed": false,
    "ExecuteTime": {
     "start_time": "2023-04-27T10:50:31.858777Z",
     "end_time": "2023-04-27T10:50:37.537363Z"
    }
   }
  },
  {
   "cell_type": "code",
   "execution_count": 2,
   "outputs": [],
   "source": [
    "import pandas as pd\n",
    "import numpy as np\n",
    "from sklearn.linear_model import LinearRegression\n",
    "from sklearn.preprocessing import StandardScaler\n",
    "import plotly.graph_objects as go"
   ],
   "metadata": {
    "collapsed": false,
    "ExecuteTime": {
     "start_time": "2023-04-27T10:50:37.536949Z",
     "end_time": "2023-04-27T10:50:37.542619Z"
    }
   }
  },
  {
   "cell_type": "code",
   "execution_count": 3,
   "outputs": [],
   "source": [
    "%load_ext autoreload\n",
    "%autoreload 2"
   ],
   "metadata": {
    "collapsed": false,
    "ExecuteTime": {
     "start_time": "2023-04-27T10:50:37.546143Z",
     "end_time": "2023-04-27T10:50:37.601152Z"
    }
   }
  },
  {
   "cell_type": "code",
   "execution_count": 4,
   "outputs": [],
   "source": [
    "# %reload_ext autoreload"
   ],
   "metadata": {
    "collapsed": false,
    "ExecuteTime": {
     "start_time": "2023-04-27T10:50:37.601737Z",
     "end_time": "2023-04-27T10:50:37.646315Z"
    }
   }
  },
  {
   "cell_type": "markdown",
   "source": [
    "# DATA"
   ],
   "metadata": {
    "collapsed": false
   }
  },
  {
   "cell_type": "code",
   "execution_count": 6,
   "outputs": [],
   "source": [
    "occupation_msa_data = ProcessedDataIO.load_occupation_msa_data()"
   ],
   "metadata": {
    "collapsed": false,
    "ExecuteTime": {
     "start_time": "2023-04-06T17:35:26.101885Z",
     "end_time": "2023-04-06T17:35:46.532628Z"
    }
   }
  },
  {
   "cell_type": "code",
   "execution_count": 37,
   "outputs": [],
   "source": [
    "occupation_characteristic_data = ProcessedDataIO.load_occupation_characteristic_data()"
   ],
   "metadata": {
    "collapsed": false,
    "ExecuteTime": {
     "start_time": "2023-04-06T18:09:50.142595Z",
     "end_time": "2023-04-06T18:10:31.023000Z"
    }
   }
  },
  {
   "cell_type": "code",
   "execution_count": 10,
   "outputs": [],
   "source": [
    "occupation_network = ProcessedDataIO.load_occupation_network()"
   ],
   "metadata": {
    "collapsed": false,
    "ExecuteTime": {
     "start_time": "2023-04-06T17:36:04.232827Z",
     "end_time": "2023-04-06T17:36:08.919793Z"
    }
   }
  },
  {
   "cell_type": "code",
   "execution_count": 11,
   "outputs": [],
   "source": [
    "occ_codes = ProcessedDataIO.load_occupations_codes_present_in_both_datasets()"
   ],
   "metadata": {
    "collapsed": false,
    "ExecuteTime": {
     "start_time": "2023-04-06T17:37:07.825650Z",
     "end_time": "2023-04-06T17:37:07.912183Z"
    }
   }
  },
  {
   "cell_type": "code",
   "execution_count": 38,
   "outputs": [],
   "source": [
    "data = Data(occ_codes=occ_codes, occ_msa_data=occupation_msa_data, occ_char_data=occupation_characteristic_data, occ_network=occupation_network)"
   ],
   "metadata": {
    "collapsed": false,
    "ExecuteTime": {
     "start_time": "2023-04-06T18:10:31.026428Z",
     "end_time": "2023-04-06T18:10:31.088156Z"
    }
   }
  },
  {
   "cell_type": "markdown",
   "source": [
    "# Plotting"
   ],
   "metadata": {
    "collapsed": false
   }
  },
  {
   "cell_type": "code",
   "execution_count": 39,
   "outputs": [],
   "source": [
    "from Plotting.Plotter import plot_regression_results_for_various_characteristics"
   ],
   "metadata": {
    "collapsed": false,
    "ExecuteTime": {
     "start_time": "2023-04-06T18:10:34.870935Z",
     "end_time": "2023-04-06T18:10:34.940847Z"
    }
   }
  },
  {
   "cell_type": "code",
   "execution_count": 40,
   "outputs": [],
   "source": [
    "a = occupation_characteristic_data[['Element Name', 'Element ID']].drop_duplicates('Element ID')\n",
    "characteristics_names_and_ids = list(zip(a['Element Name'], a['Element ID']))"
   ],
   "metadata": {
    "collapsed": false,
    "ExecuteTime": {
     "start_time": "2023-04-06T18:10:41.508412Z",
     "end_time": "2023-04-06T18:10:41.580790Z"
    }
   }
  },
  {
   "cell_type": "code",
   "execution_count": 41,
   "outputs": [],
   "source": [
    "n_quantiles_reg = 5\n",
    "n_quantiles_char = 5"
   ],
   "metadata": {
    "collapsed": false,
    "ExecuteTime": {
     "start_time": "2023-04-06T18:10:43.111871Z",
     "end_time": "2023-04-06T18:10:43.182652Z"
    }
   }
  },
  {
   "cell_type": "code",
   "execution_count": 42,
   "outputs": [],
   "source": [
    "plot_regression_results_for_various_characteristics(data=data, characteristic_names_and_ids=characteristics_names_and_ids, n_quantiles_reg=n_quantiles_reg, n_quantiles_char=n_quantiles_char)"
   ],
   "metadata": {
    "collapsed": false,
    "ExecuteTime": {
     "start_time": "2023-04-06T18:10:44.155232Z",
     "end_time": "2023-04-06T18:12:42.142238Z"
    }
   }
  },
  {
   "cell_type": "markdown",
   "source": [],
   "metadata": {
    "collapsed": false
   }
  },
  {
   "cell_type": "markdown",
   "source": [
    "# Playground"
   ],
   "metadata": {
    "collapsed": false
   }
  },
  {
   "cell_type": "code",
   "execution_count": null,
   "outputs": [],
   "source": [
    "occ_codes = ProcessedDataIO.load_occupations_codes_present_in_both_datasets()"
   ],
   "metadata": {
    "collapsed": false,
    "ExecuteTime": {
     "start_time": "2023-04-06T16:54:30.370586Z",
     "end_time": "2023-04-06T16:54:30.504192Z"
    }
   }
  },
  {
   "cell_type": "code",
   "execution_count": null,
   "outputs": [],
   "source": [
    "oc = OccupationClassifier(occ_codes=occ_codes, occ_msa_data=occupation_msa_data, occ_characteristics_data=occupation_characteristic_data)"
   ],
   "metadata": {
    "collapsed": false,
    "ExecuteTime": {
     "start_time": "2023-04-06T16:54:30.506113Z",
     "end_time": "2023-04-06T16:54:30.567426Z"
    }
   }
  },
  {
   "cell_type": "code",
   "execution_count": null,
   "outputs": [],
   "source": [
    "occ_grouped_by_characteristic = oc.get_occupations_grouped_by_characteristic(n_quantiles=10, characteristic_id='2.D.1')"
   ],
   "metadata": {
    "collapsed": false,
    "ExecuteTime": {
     "start_time": "2023-04-06T16:54:30.569509Z",
     "end_time": "2023-04-06T16:54:30.639582Z"
    }
   }
  },
  {
   "cell_type": "code",
   "execution_count": null,
   "outputs": [],
   "source": [
    "plotter = PlotRegressionResult(regression=regression)\n",
    "occ_groups_to_plot = {}\n",
    "for q in occ_grouped_by_characteristic:\n",
    "    occ_groups_to_plot[q] = occ_grouped_by_characteristic[q]\n",
    "plotter.plot(occupations=occ_groups_to_plot)"
   ],
   "metadata": {
    "collapsed": false,
    "ExecuteTime": {
     "start_time": "2023-04-06T16:54:37.875557Z",
     "end_time": "2023-04-06T16:55:29.946356Z"
    }
   }
  },
  {
   "cell_type": "code",
   "execution_count": null,
   "outputs": [],
   "source": [],
   "metadata": {
    "collapsed": false,
    "ExecuteTime": {
     "start_time": "2023-04-04T19:31:42.485720Z",
     "end_time": "2023-04-04T19:31:43.091284Z"
    }
   }
  },
  {
   "cell_type": "code",
   "execution_count": null,
   "outputs": [],
   "source": [
    "print('1')"
   ],
   "metadata": {
    "collapsed": false,
    "ExecuteTime": {
     "start_time": "2023-04-05T17:11:55.735003Z",
     "end_time": "2023-04-05T17:11:55.871253Z"
    }
   }
  },
  {
   "cell_type": "code",
   "execution_count": 19,
   "outputs": [],
   "source": [
    "a = np.array([[1,2,3],[4,5,6]])\n",
    "b = np.array([2,2,2])"
   ],
   "metadata": {
    "collapsed": false,
    "ExecuteTime": {
     "start_time": "2023-04-06T10:50:46.626974Z",
     "end_time": "2023-04-06T10:50:46.755323Z"
    }
   }
  },
  {
   "cell_type": "code",
   "execution_count": 20,
   "outputs": [
    {
     "data": {
      "text/plain": "array([[ 2,  4,  6],\n       [ 8, 10, 12]])"
     },
     "execution_count": 20,
     "metadata": {},
     "output_type": "execute_result"
    }
   ],
   "source": [
    "b*a"
   ],
   "metadata": {
    "collapsed": false,
    "ExecuteTime": {
     "start_time": "2023-04-06T10:50:46.857110Z",
     "end_time": "2023-04-06T10:50:46.942639Z"
    }
   }
  },
  {
   "cell_type": "code",
   "execution_count": 86,
   "outputs": [],
   "source": [
    "occ_codes_both_datasets = list(set(occupation_msa_data['occ_code'].unique()).intersection(set(occupation_characteristic_data['O*NET-SOC Code'].unique())))"
   ],
   "metadata": {
    "collapsed": false,
    "ExecuteTime": {
     "start_time": "2023-04-06T17:20:46.698655Z",
     "end_time": "2023-04-06T17:20:46.783495Z"
    }
   }
  },
  {
   "cell_type": "code",
   "execution_count": 87,
   "outputs": [],
   "source": [
    "data_occ_codes = pd.DataFrame(occ_codes_both_datasets, columns=['occ_code'])"
   ],
   "metadata": {
    "collapsed": false,
    "ExecuteTime": {
     "start_time": "2023-04-06T17:20:46.918894Z",
     "end_time": "2023-04-06T17:20:46.988589Z"
    }
   }
  },
  {
   "cell_type": "code",
   "execution_count": 89,
   "outputs": [],
   "source": [
    "ProcessedDataIO.save_occupations_codes_present_in_both_datasets(data_occ_codes)"
   ],
   "metadata": {
    "collapsed": false,
    "ExecuteTime": {
     "start_time": "2023-04-06T17:21:10.491445Z",
     "end_time": "2023-04-06T17:21:10.765425Z"
    }
   }
  },
  {
   "cell_type": "code",
   "execution_count": 83,
   "outputs": [
    {
     "data": {
      "text/plain": "637"
     },
     "execution_count": 83,
     "metadata": {},
     "output_type": "execute_result"
    }
   ],
   "source": [
    "len(occupation_characteristic_data['O*NET-SOC Code'].unique())"
   ],
   "metadata": {
    "collapsed": false,
    "ExecuteTime": {
     "start_time": "2023-04-06T17:19:36.259651Z",
     "end_time": "2023-04-06T17:19:36.329060Z"
    }
   }
  },
  {
   "cell_type": "code",
   "execution_count": 1,
   "outputs": [],
   "source": [
    "import pandas as pd"
   ],
   "metadata": {
    "collapsed": false,
    "ExecuteTime": {
     "start_time": "2023-05-08T20:38:13.386861Z",
     "end_time": "2023-05-08T20:38:13.799012Z"
    }
   }
  },
  {
   "cell_type": "code",
   "execution_count": 9,
   "outputs": [],
   "source": [
    "df = pd.DataFrame(columns=['Scale ID', 'Data Value'], data=[['A',1], ['A',2], ['B',1]])\n"
   ],
   "metadata": {
    "collapsed": false,
    "ExecuteTime": {
     "start_time": "2023-05-08T20:41:13.742591Z",
     "end_time": "2023-05-08T20:41:13.752566Z"
    }
   }
  },
  {
   "cell_type": "code",
   "execution_count": 19,
   "outputs": [],
   "source": [
    "def func(x):\n",
    "    print(x['Data Value'])"
   ],
   "metadata": {
    "collapsed": false,
    "ExecuteTime": {
     "start_time": "2023-05-08T20:42:45.899209Z",
     "end_time": "2023-05-08T20:42:45.904212Z"
    }
   }
  },
  {
   "cell_type": "code",
   "execution_count": 20,
   "outputs": [
    {
     "name": "stdout",
     "output_type": "stream",
     "text": [
      "1\n",
      "2\n",
      "1\n"
     ]
    },
    {
     "data": {
      "text/plain": "0    None\n1    None\n2    None\ndtype: object"
     },
     "execution_count": 20,
     "metadata": {},
     "output_type": "execute_result"
    }
   ],
   "source": [
    "df.apply(func, axis=1)"
   ],
   "metadata": {
    "collapsed": false,
    "ExecuteTime": {
     "start_time": "2023-05-08T20:42:46.184598Z",
     "end_time": "2023-05-08T20:42:46.195429Z"
    }
   }
  },
  {
   "cell_type": "code",
   "execution_count": null,
   "outputs": [],
   "source": [],
   "metadata": {
    "collapsed": false
   }
  }
 ],
 "metadata": {
  "kernelspec": {
   "display_name": "Python 3",
   "language": "python",
   "name": "python3"
  },
  "language_info": {
   "codemirror_mode": {
    "name": "ipython",
    "version": 2
   },
   "file_extension": ".py",
   "mimetype": "text/x-python",
   "name": "python",
   "nbconvert_exporter": "python",
   "pygments_lexer": "ipython2",
   "version": "2.7.6"
  }
 },
 "nbformat": 4,
 "nbformat_minor": 0
}
